{
 "cells": [
  {
   "cell_type": "code",
   "execution_count": 1,
   "id": "dd2399ff-c65b-4738-a95e-6e3e06657d29",
   "metadata": {},
   "outputs": [],
   "source": [
    "import os\n",
    "import torch\n",
    "import torch.nn as nn\n",
    "from os.path import expanduser  # pylint: disable=import-outside-toplevel\n",
    "from urllib.request import urlretrieve  # pylint: disable=import-outside-toplevel\n",
    "def get_aesthetic_model(clip_model=\"vit_l_14\"):\n",
    "    \"\"\"load the aethetic model\"\"\"\n",
    "    home = expanduser(\"~\")\n",
    "    cache_folder = home + \"/.cache/emb_reader\"\n",
    "    path_to_model = cache_folder + \"/sa_0_4_\"+clip_model+\"_linear.pth\"\n",
    "    if not os.path.exists(path_to_model):\n",
    "        os.makedirs(cache_folder, exist_ok=True)\n",
    "        url_model = (\n",
    "            \"https://github.com/LAION-AI/aesthetic-predictor/blob/main/sa_0_4_\"+clip_model+\"_linear.pth?raw=true\"\n",
    "        )\n",
    "        urlretrieve(url_model, path_to_model)\n",
    "    if clip_model == \"vit_l_14\":\n",
    "        m = nn.Linear(768, 1)\n",
    "    elif clip_model == \"vit_b_32\":\n",
    "        m = nn.Linear(512, 1)\n",
    "    else:\n",
    "        raise ValueError()\n",
    "    s = torch.load(path_to_model)\n",
    "    m.load_state_dict(s)\n",
    "    m.eval()\n",
    "    return m"
   ]
  },
  {
   "cell_type": "code",
   "execution_count": 2,
   "id": "1ae990da-6b9c-4e46-80e2-4f903d04bcf2",
   "metadata": {},
   "outputs": [
    {
     "name": "stderr",
     "output_type": "stream",
     "text": [
      "/opt/anaconda3/lib/python3.11/site-packages/torchvision/io/image.py:13: UserWarning: Failed to load image Python extension: 'dlopen(/opt/anaconda3/lib/python3.11/site-packages/torchvision/image.so, 0x0006): Symbol not found: __ZN3c1017RegisterOperatorsD1Ev\n",
      "  Referenced from: <CFED5F8E-EC3F-36FD-AAA3-2C6C7F8D3DD9> /opt/anaconda3/lib/python3.11/site-packages/torchvision/image.so\n",
      "  Expected in:     <DD331F32-AFC8-3339-B3D0-A55F0067D44D> /opt/anaconda3/lib/python3.11/site-packages/torch/lib/libtorch_cpu.dylib'If you don't plan on using image functionality from `torchvision.io`, you can ignore this warning. Otherwise, there might be something wrong with your environment. Did you have `libjpeg` or `libpng` installed before building `torchvision` from source?\n",
      "  warn(\n",
      "100%|███████████████████████████████████████| 890M/890M [00:26<00:00, 35.1MiB/s]\n"
     ]
    }
   ],
   "source": [
    "import torchvision.transforms as transforms\n",
    "from PIL import Image\n",
    "from torchvision.transforms.functional import InterpolationMode\n",
    "import clip\n",
    "\n",
    "# Load the aesthetic model\n",
    "aesthetic_model = get_aesthetic_model()\n",
    "\n",
    "# Load CLIP model\n",
    "device = \"cuda\" if torch.cuda.is_available() else \"cpu\"\n",
    "clip_model, preprocess = clip.load(\"ViT-L/14\", device=device)\n",
    "\n",
    "# Function to preprocess image\n",
    "def preprocess_image(image_path):\n",
    "    image = Image.open(image_path).convert(\"RGB\")\n",
    "    transform = transforms.Compose([\n",
    "        transforms.Resize((224, 224), interpolation=InterpolationMode.BICUBIC),\n",
    "        transforms.ToTensor(),\n",
    "        transforms.Normalize((0.48145466, 0.4578275, 0.40821073), (0.26862954, 0.26130258, 0.27577711))\n",
    "    ])\n",
    "    return transform(image).unsqueeze(0)\n",
    "\n",
    "# Function to get aesthetic score\n",
    "def get_aesthetic_score(image_path):\n",
    "    image = preprocess_image(image_path).to(device)\n",
    "    with torch.no_grad():\n",
    "        image_features = clip_model.encode_image(image)\n",
    "        aesthetic_score = aesthetic_model(image_features.float()).item()\n",
    "    return aesthetic_score\n"
   ]
  },
  {
   "cell_type": "code",
   "execution_count": 4,
   "id": "7b14dc36-f5ff-4e97-8dfd-58f42d6ccdba",
   "metadata": {},
   "outputs": [
    {
     "name": "stdout",
     "output_type": "stream",
     "text": [
      "Aesthetic score for /Users/petrsushko/Desktop/local_photobench/clean/benchmarks/benchmark_images/input/jy4v49.jpg: 42.4\n",
      "Aesthetic score for /Users/petrsushko/Desktop/local_photobench/clean/benchmarks/benchmark_images/magic_brush_output/jy4v49.jpg: 28.4\n",
      "Aesthetic score for /Users/petrsushko/Desktop/local_photobench/clean/benchmarks/benchmark_images/reddit_output/gd10gef_2.png: 44.4\n"
     ]
    }
   ],
   "source": [
    "# List of image paths\n",
    "image_paths = [\"/Users/petrsushko/Desktop/local_photobench/clean/benchmarks/benchmark_images/input/jy4v49.jpg\",\n",
    "               \"/Users/petrsushko/Desktop/local_photobench/clean/benchmarks/benchmark_images/magic_brush_output/jy4v49.jpg\",\n",
    "               \"/Users/petrsushko/Desktop/local_photobench/clean/benchmarks/benchmark_images/reddit_output/gd10gef_2.png\"]\n",
    "\n",
    "# Get aesthetic scores for all images\n",
    "for image_path in image_paths:\n",
    "    score = get_aesthetic_score(image_path)\n",
    "    rounded_score = round(score, 1)\n",
    "    print(f\"Aesthetic score for {image_path}: {rounded_score}\")"
   ]
  }
 ],
 "metadata": {
  "kernelspec": {
   "display_name": "Python 3 (ipykernel)",
   "language": "python",
   "name": "python3"
  },
  "language_info": {
   "codemirror_mode": {
    "name": "ipython",
    "version": 3
   },
   "file_extension": ".py",
   "mimetype": "text/x-python",
   "name": "python",
   "nbconvert_exporter": "python",
   "pygments_lexer": "ipython3",
   "version": "3.11.9"
  }
 },
 "nbformat": 4,
 "nbformat_minor": 5
}
