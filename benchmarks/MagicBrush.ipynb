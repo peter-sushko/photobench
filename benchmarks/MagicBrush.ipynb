{
 "cells": [
  {
   "cell_type": "code",
   "execution_count": 1,
   "id": "a562567b-e2ce-4c5e-bd7b-f5e0df93f8b9",
   "metadata": {},
   "outputs": [
    {
     "name": "stderr",
     "output_type": "stream",
     "text": [
      "/opt/anaconda3/lib/python3.11/site-packages/diffusers/models/transformers/transformer_2d.py:34: FutureWarning: `Transformer2DModelOutput` is deprecated and will be removed in version 1.0.0. Importing `Transformer2DModelOutput` from `diffusers.models.transformer_2d` is deprecated and this will be removed in a future version. Please use `from diffusers.models.modeling_outputs import Transformer2DModelOutput`, instead.\n",
      "  deprecate(\"Transformer2DModelOutput\", \"1.0.0\", deprecation_message)\n",
      "safety_checker/model.safetensors not found\n"
     ]
    },
    {
     "data": {
      "application/vnd.jupyter.widget-view+json": {
       "model_id": "de5f5173324f46ab83cc3ecf906ac9c5",
       "version_major": 2,
       "version_minor": 0
      },
      "text/plain": [
       "Loading pipeline components...:   0%|          | 0/7 [00:00<?, ?it/s]"
      ]
     },
     "metadata": {},
     "output_type": "display_data"
    },
    {
     "name": "stderr",
     "output_type": "stream",
     "text": [
      "/opt/anaconda3/lib/python3.11/site-packages/transformers/models/clip/feature_extraction_clip.py:28: FutureWarning: The class CLIPFeatureExtractor is deprecated and will be removed in version 5 of Transformers. Please use CLIPImageProcessor instead.\n",
      "  warnings.warn(\n",
      "An error occurred while trying to fetch /Users/petrsushko/.cache/huggingface/hub/models--vinesmsuic--magicbrush-jul7/snapshots/d75a9f18439f67dbdc0ab113036f491ce2256c53/unet: Error no file named diffusion_pytorch_model.safetensors found in directory /Users/petrsushko/.cache/huggingface/hub/models--vinesmsuic--magicbrush-jul7/snapshots/d75a9f18439f67dbdc0ab113036f491ce2256c53/unet.\n",
      "Defaulting to unsafe serialization. Pass `allow_pickle=False` to raise an error instead.\n",
      "An error occurred while trying to fetch /Users/petrsushko/.cache/huggingface/hub/models--vinesmsuic--magicbrush-jul7/snapshots/d75a9f18439f67dbdc0ab113036f491ce2256c53/vae: Error no file named diffusion_pytorch_model.safetensors found in directory /Users/petrsushko/.cache/huggingface/hub/models--vinesmsuic--magicbrush-jul7/snapshots/d75a9f18439f67dbdc0ab113036f491ce2256c53/vae.\n",
      "Defaulting to unsafe serialization. Pass `allow_pickle=False` to raise an error instead.\n"
     ]
    },
    {
     "data": {
      "application/vnd.jupyter.widget-view+json": {
       "model_id": "55e3d5f35c1a41e198dd47797a84241d",
       "version_major": 2,
       "version_minor": 0
      },
      "text/plain": [
       "  0%|          | 0/20 [00:00<?, ?it/s]"
      ]
     },
     "metadata": {},
     "output_type": "display_data"
    }
   ],
   "source": [
    "from PIL import Image, ImageOps\n",
    "import requests\n",
    "import torch\n",
    "from diffusers import StableDiffusionInstructPix2PixPipeline, EulerAncestralDiscreteScheduler\n",
    "\n",
    "# Check if MPS is available\n",
    "if torch.backends.mps.is_available():\n",
    "    device = \"mps\"\n",
    "else:\n",
    "    device = \"cpu\"\n",
    "\n",
    "class MagicBrush():\n",
    "    def __init__(self, weight=\"vinesmsuic/magicbrush-jul7\"):\n",
    "        self.pipe = StableDiffusionInstructPix2PixPipeline.from_pretrained(\n",
    "                        weight, \n",
    "                        torch_dtype=torch.float16\n",
    "                    ).to(device)\n",
    "        self.pipe.scheduler = EulerAncestralDiscreteScheduler.from_config(self.pipe.scheduler.config)\n",
    "        \n",
    "    def infer_one_image(self, src_image, instruct_prompt, seed):\n",
    "        generator = torch.manual_seed(seed)\n",
    "        image = self.pipe(instruct_prompt, image=src_image, num_inference_steps=20, image_guidance_scale=1.5, guidance_scale=7, generator=generator).images[0]\n",
    "        return image\n",
    "        \n",
    "def load_local_image(image_path):\n",
    "    image = PIL.Image.open(image_path)\n",
    "    image = PIL.ImageOps.exif_transpose(image)\n",
    "    image = image.convert(\"RGB\")\n",
    "    return image\n",
    "\n",
    "model = MagicBrush()\n",
    "image_output = model.infer_one_image(image, prompt, 42)\n",
    "image_output.show()\n"
   ]
  },
  {
   "cell_type": "code",
   "execution_count": 25,
   "id": "8c978eed-7e6a-48b5-824a-86c7a4de77ae",
   "metadata": {},
   "outputs": [
    {
     "data": {
      "application/vnd.jupyter.widget-view+json": {
       "model_id": "b7d8b46f043544f782cfc8417cfde0f3",
       "version_major": 2,
       "version_minor": 0
      },
      "text/plain": [
       "  0%|          | 0/20 [00:00<?, ?it/s]"
      ]
     },
     "metadata": {},
     "output_type": "display_data"
    }
   ],
   "source": [
    "import PIL\n",
    "def load_local_image(image_path, max_size=(512, 512)):\n",
    "    image = Image.open(image_path)\n",
    "    image = ImageOps.exif_transpose(image)\n",
    "    image = image.convert(\"RGB\")\n",
    "    image.thumbnail(max_size, Image.Resampling.LANCZOS)  # Resize the image using LANCZOS\n",
    "    return image\n",
    "    \n",
    "local_image_path = \"/Users/petrsushko/Desktop/local_photobench/clean/benchmarks/benchmark_images/input/jsxk84.jpeg\"\n",
    "\n",
    "image = load_local_image(local_image_path)\n",
    "prompt = \"Could someone remove the white text and the emoji from this image?\"\n",
    "image_output = model.infer_one_image(image, prompt, 41)\n",
    "image_output.show()\n"
   ]
  },
  {
   "cell_type": "code",
   "execution_count": 24,
   "id": "8f21be07-c68b-4b93-bf95-16d3abe0867e",
   "metadata": {},
   "outputs": [],
   "source": [
    "image_output.save(\"/Users/petrsushko/Desktop/local_photobench/clean/benchmarks/benchmark_images/magic_brush_output/jsxk84.jpeg\")"
   ]
  }
 ],
 "metadata": {
  "kernelspec": {
   "display_name": "Python 3 (ipykernel)",
   "language": "python",
   "name": "python3"
  },
  "language_info": {
   "codemirror_mode": {
    "name": "ipython",
    "version": 3
   },
   "file_extension": ".py",
   "mimetype": "text/x-python",
   "name": "python",
   "nbconvert_exporter": "python",
   "pygments_lexer": "ipython3",
   "version": "3.11.9"
  }
 },
 "nbformat": 4,
 "nbformat_minor": 5
}
